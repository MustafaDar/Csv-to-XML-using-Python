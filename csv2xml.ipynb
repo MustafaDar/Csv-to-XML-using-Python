{
 "cells": [
  {
   "cell_type": "code",
   "execution_count": 5,
   "metadata": {},
   "outputs": [],
   "source": [
    "from pandas import read_csv\n",
    "from feedgen.feed import FeedGenerator"
   ]
  },
  {
   "cell_type": "code",
   "execution_count": 6,
   "metadata": {},
   "outputs": [],
   "source": [
    "def define_rss_header():\n",
    "    \"\"\"Set basic elements at the tome of xml file\n",
    "    \"\"\"\n",
    "    fg = FeedGenerator()\n",
    "    fg.id('http://lernfunk.de/media/654321')\n",
    "    fg.title('Mustafa RSS project')\n",
    "    fg.author( {'name':'Mustafa','email':'mustafadar338@gmail.com'} )\n",
    "    fg.link( href='http://example.com', rel='alternate' )\n",
    "    fg.logo('http://ex.com/logo.jpg')\n",
    "    fg.subtitle('Mustafa cool feed!')\n",
    "    fg.link( href='http://larskiesow.de/test.atom', rel='self' )\n",
    "    fg.language('en')\n",
    "    return fg\n"
   ]
  },
  {
   "cell_type": "code",
   "execution_count": 7,
   "metadata": {},
   "outputs": [],
   "source": [
    "def load_data_from_csv(filename):        \n",
    "    try:\n",
    "        # load data using \"|\" as delimiter\n",
    "        df = read_csv(filename, delimiter=\"|\")\n",
    "    except Exception as ex:\n",
    "        print(f\"Could not open {filename}. Reason: {str(ex)}\")\n",
    "        return None\n",
    "        \n",
    "    # convert columns to lowercase\n",
    "    columns = [c.lower() for c in df.columns]\n",
    "    df.columns = columns\n",
    "    \n",
    "    return df"
   ]
  },
  {
   "cell_type": "code",
   "execution_count": 8,
   "metadata": {},
   "outputs": [],
   "source": [
    "def main():\n",
    "\n",
    "    fg = define_rss_header()\n",
    "    \n",
    "    # Get the ATOM feed as string\n",
    "    atomfeed = fg.atom_str(pretty=True) \n",
    "    \n",
    "    # Get the RSS feed as string\n",
    "    rssfeed  = fg.rss_str(pretty=True) \n",
    "    \n",
    "    # Time to load data\n",
    "    filename = 'quotes.csv'\n",
    "    data = load_data_from_csv(filename)\n",
    "    if data is None:\n",
    "        print(\"Could not load data from csv file\")\n",
    "        return\n",
    "    \n",
    "    # Read each row from dataframe and\n",
    "    # read value from the right column and set it\n",
    "    # as a value for the current created xml entry\n",
    "    for i in data.index:        \n",
    "        # create XML entry (inside item section)\n",
    "        fe = fg.add_entry()\n",
    "        \n",
    "        fe.id(f'http://lernfunk.de/media/654321/{i}')\n",
    "        fe.title((\n",
    "            f\"<![CDATA[<h1>{data.at[i, 'source']}</h1>\\n<h2>\"\n",
    "            f\"{data.at[i, 'category']}</h2>]]>\"\n",
    "            f\"({data.at[i, 'dob-dod']})\"\n",
    "        ))\n",
    "        fe.description(f\"<![CDATA[<p><img src=\\\"{data.at[i, 'wpimg']}\\\"/></p>]]\")\n",
    "        fe.content(f\"<![CDATA[<p>{data.at[i, 'quote']}</p>]]\")\n",
    "        fe.link(href=data.at[i, \"wplink\"])\n",
    "        \n",
    "    # Write the RSS feed to a file    \n",
    "    fg.rss_file('rss.xml') "
   ]
  },
  {
   "cell_type": "code",
   "execution_count": 9,
   "metadata": {},
   "outputs": [],
   "source": [
    "if __name__ == '__main__':\n",
    "    main()"
   ]
  },
  {
   "cell_type": "code",
   "execution_count": null,
   "metadata": {},
   "outputs": [],
   "source": []
  }
 ],
 "metadata": {
  "kernelspec": {
   "display_name": "Python 3",
   "language": "python",
   "name": "python3"
  },
  "language_info": {
   "codemirror_mode": {
    "name": "ipython",
    "version": 3
   },
   "file_extension": ".py",
   "mimetype": "text/x-python",
   "name": "python",
   "nbconvert_exporter": "python",
   "pygments_lexer": "ipython3",
   "version": "3.8.5"
  }
 },
 "nbformat": 4,
 "nbformat_minor": 4
}
